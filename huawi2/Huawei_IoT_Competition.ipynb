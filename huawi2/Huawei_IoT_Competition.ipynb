{
  "nbformat": 4,
  "nbformat_minor": 0,
  "metadata": {
    "colab": {
      "name": "Huawei_IoT_Competition.ipynb",
      "provenance": [],
      "collapsed_sections": []
    },
    "kernelspec": {
      "name": "python3",
      "display_name": "Python 3"
    },
    "accelerator": "GPU"
  },
  "cells": [
    {
      "cell_type": "markdown",
      "metadata": {
        "id": "nSx7q9Qj0oG-"
      },
      "source": [
        "# **Huawei IoT Competition**"
      ]
    },
    {
      "cell_type": "markdown",
      "metadata": {
        "id": "Wx-90IR24Zdz"
      },
      "source": [
        "### **Melanoma Classification Using Deep Learning**\n",
        "\n",
        "\n",
        "---\n",
        "\n",
        "\n",
        "*Background*: Melanoma is responsible for 75% of skin cancer deaths, despite being the least common skin cancer. The American Cancer Society estimates over 100,000 new melanoma cases will be diagnosed in 2020. It's also expected that almost 7,000 people will die from the disease. As with other cancers, early and accurate detection can make treatment more effective.\n",
        "\n",
        "\n",
        "\n",
        "> The Dataset used in this project available at https://www.isic-archive.com/#!/topWithHeader/wideContentTop/main\n",
        "\n",
        "\n",
        "\n"
      ]
    },
    {
      "cell_type": "markdown",
      "metadata": {
        "id": "75Ayh98KYq9g"
      },
      "source": [
        "## **A Deep Learning Approach for Melanoma Prediction**"
      ]
    },
    {
      "cell_type": "code",
      "metadata": {
        "id": "0V24_MlU3IGu",
        "outputId": "bb387f97-0dad-4574-e646-fc0ae4c838b8",
        "colab": {
          "base_uri": "https://localhost:8080/",
          "height": 34
        }
      },
      "source": [
        "from google.colab import drive\n",
        "drive.mount('/content/drive')"
      ],
      "execution_count": null,
      "outputs": [
        {
          "output_type": "stream",
          "text": [
            "Mounted at /content/drive\n"
          ],
          "name": "stdout"
        }
      ]
    },
    {
      "cell_type": "code",
      "metadata": {
        "id": "8DL1MFYRZGow"
      },
      "source": [
        "import os\n",
        "import numpy as np\n",
        "import cv2\n",
        "import matplotlib.pyplot as plt\n",
        "import pandas as pd\n",
        "import seaborn as sns\n",
        "import warnings\n",
        "warnings.filterwarnings(\"ignore\")"
      ],
      "execution_count": null,
      "outputs": []
    },
    {
      "cell_type": "code",
      "metadata": {
        "id": "KuDQ8xx1k67F"
      },
      "source": [
        "!unzip -q '/content/drive/My Drive/skin_project/skin_dataset.zip'"
      ],
      "execution_count": null,
      "outputs": []
    },
    {
      "cell_type": "code",
      "metadata": {
        "id": "Nj7Hr_ZZeWWC"
      },
      "source": [
        "GDRIVEPATH='skin_dataset/'"
      ],
      "execution_count": null,
      "outputs": []
    },
    {
      "cell_type": "code",
      "metadata": {
        "id": "qzOpfHyPgE-N"
      },
      "source": [
        "import os, shutil\n",
        "\n",
        "base_dir = GDRIVEPATH\n",
        "\n",
        "train_dir = os.path.join(base_dir, 'train')\n",
        "validation_dir = os.path.join(base_dir, 'validation')\n",
        "test_dir = os.path.join(base_dir, 'test')\n",
        "\n",
        "train_benign_dir = os.path.join(train_dir, 'benign')\n",
        "train_malignant_dir = os.path.join(train_dir, 'malignant')\n",
        "\n",
        "validation_benign_dir = os.path.join(validation_dir, 'benign')\n",
        "validation_malignant_dir = os.path.join(validation_dir, 'malignant')\n",
        "\n",
        "test_benign_dir = os.path.join(test_dir, 'benign')\n",
        "test_malignant_dir = os.path.join(test_dir, 'malignant')"
      ],
      "execution_count": null,
      "outputs": []
    },
    {
      "cell_type": "code",
      "metadata": {
        "id": "4FyOWMQh_1Qx"
      },
      "source": [
        "import shutil\n",
        "import os\n",
        "\n",
        "for f in os.listdir(train_benign_dir)[:250]:\n",
        "  shutil.move(train_benign_dir+\"/\"+f, validation_benign_dir+\"/\")\n",
        "\n",
        "for f in os.listdir(train_malignant_dir)[:250]:\n",
        "  shutil.move(train_malignant_dir+\"/\"+f, validation_malignant_dir+\"/\")\n",
        "\n",
        "for f in os.listdir(train_benign_dir)[:250]:\n",
        "  shutil.move(train_benign_dir+\"/\"+f, test_benign_dir+\"/\")\n",
        "\n",
        "for f in os.listdir(train_malignant_dir)[:250]:\n",
        "  shutil.move(train_malignant_dir+\"/\"+f, test_malignant_dir+\"/\")"
      ],
      "execution_count": null,
      "outputs": []
    },
    {
      "cell_type": "code",
      "metadata": {
        "id": "A_GkUh0CgtIn",
        "outputId": "a1f9ba74-816d-4df2-de63-1e5fa8937242",
        "colab": {
          "base_uri": "https://localhost:8080/",
          "height": 51
        }
      },
      "source": [
        "print('total training benign images:', len(os.listdir(train_benign_dir)))\n",
        "print('total training malignant images:', len(os.listdir(train_malignant_dir)))"
      ],
      "execution_count": null,
      "outputs": [
        {
          "output_type": "stream",
          "text": [
            "total training benign images: 1500\n",
            "total training malignant images: 1500\n"
          ],
          "name": "stdout"
        }
      ]
    },
    {
      "cell_type": "code",
      "metadata": {
        "id": "5BLzPNBrlY29"
      },
      "source": [
        "from keras import layers\n",
        "from keras import models\n",
        "\n",
        "model = models.Sequential()\n",
        "model.add(layers.Conv2D(32, (3, 3), activation='relu', input_shape=(150, 150, 3)))\n",
        "model.add(layers.MaxPooling2D((2, 2)))\n",
        "model.add(layers.Conv2D(64, (3, 3), activation='relu'))\n",
        "model.add(layers.MaxPooling2D((2, 2)))\n",
        "model.add(layers.Conv2D(128, (3, 3), activation='relu'))\n",
        "model.add(layers.MaxPooling2D((2, 2)))\n",
        "model.add(layers.Conv2D(128, (3, 3), activation='relu'))\n",
        "model.add(layers.MaxPooling2D((2, 2)))\n",
        "model.add(layers.Dropout(0.5))\n",
        "model.add(layers.Flatten())\n",
        "model.add(layers.Dense(512, activation='relu'))\n",
        "model.add(layers.Dense(1, activation='sigmoid'))"
      ],
      "execution_count": null,
      "outputs": []
    },
    {
      "cell_type": "code",
      "metadata": {
        "id": "blq4BkcBlehX",
        "outputId": "b1f20cf1-3970-4c0e-c955-c1a497766c67",
        "colab": {
          "base_uri": "https://localhost:8080/",
          "height": 561
        }
      },
      "source": [
        "model.summary()"
      ],
      "execution_count": null,
      "outputs": [
        {
          "output_type": "stream",
          "text": [
            "Model: \"sequential\"\n",
            "_________________________________________________________________\n",
            "Layer (type)                 Output Shape              Param #   \n",
            "=================================================================\n",
            "conv2d (Conv2D)              (None, 148, 148, 32)      896       \n",
            "_________________________________________________________________\n",
            "max_pooling2d (MaxPooling2D) (None, 74, 74, 32)        0         \n",
            "_________________________________________________________________\n",
            "conv2d_1 (Conv2D)            (None, 72, 72, 64)        18496     \n",
            "_________________________________________________________________\n",
            "max_pooling2d_1 (MaxPooling2 (None, 36, 36, 64)        0         \n",
            "_________________________________________________________________\n",
            "conv2d_2 (Conv2D)            (None, 34, 34, 128)       73856     \n",
            "_________________________________________________________________\n",
            "max_pooling2d_2 (MaxPooling2 (None, 17, 17, 128)       0         \n",
            "_________________________________________________________________\n",
            "conv2d_3 (Conv2D)            (None, 15, 15, 128)       147584    \n",
            "_________________________________________________________________\n",
            "max_pooling2d_3 (MaxPooling2 (None, 7, 7, 128)         0         \n",
            "_________________________________________________________________\n",
            "dropout (Dropout)            (None, 7, 7, 128)         0         \n",
            "_________________________________________________________________\n",
            "flatten (Flatten)            (None, 6272)              0         \n",
            "_________________________________________________________________\n",
            "dense (Dense)                (None, 512)               3211776   \n",
            "_________________________________________________________________\n",
            "dense_1 (Dense)              (None, 1)                 513       \n",
            "=================================================================\n",
            "Total params: 3,453,121\n",
            "Trainable params: 3,453,121\n",
            "Non-trainable params: 0\n",
            "_________________________________________________________________\n"
          ],
          "name": "stdout"
        }
      ]
    },
    {
      "cell_type": "code",
      "metadata": {
        "id": "NHva5dr8ljco"
      },
      "source": [
        "from keras import optimizers\n",
        "\n",
        "model.compile(loss='binary_crossentropy',\n",
        "              optimizer=optimizers.RMSprop(lr=1e-4),\n",
        "              metrics=['acc'])"
      ],
      "execution_count": null,
      "outputs": []
    },
    {
      "cell_type": "code",
      "metadata": {
        "id": "ZGRyv85amtpU",
        "outputId": "bddbbd05-33d2-49aa-eb5f-d29ce236184b",
        "colab": {
          "base_uri": "https://localhost:8080/",
          "height": 51
        }
      },
      "source": [
        "from keras.preprocessing.image import ImageDataGenerator\n",
        "\n",
        "train_datagen = ImageDataGenerator(rescale=1./255)\n",
        "test_datagen = ImageDataGenerator(rescale=1./255)\n",
        "\n",
        "train_generator = train_datagen.flow_from_directory(\n",
        "        train_dir,\n",
        "        target_size=(150, 150),\n",
        "        batch_size=20,\n",
        "        class_mode='binary')\n",
        "\n",
        "validation_generator = test_datagen.flow_from_directory(\n",
        "        validation_dir,\n",
        "        target_size=(150, 150),\n",
        "        batch_size=20,\n",
        "        class_mode='binary')\n"
      ],
      "execution_count": null,
      "outputs": [
        {
          "output_type": "stream",
          "text": [
            "Found 3000 images belonging to 2 classes.\n",
            "Found 1000 images belonging to 2 classes.\n"
          ],
          "name": "stdout"
        }
      ]
    },
    {
      "cell_type": "code",
      "metadata": {
        "id": "-FNTJd1-3YSe",
        "outputId": "fb58d6ea-b28b-42b8-93a7-a4fa4cfef8bf",
        "colab": {
          "base_uri": "https://localhost:8080/",
          "height": 51
        }
      },
      "source": [
        "for data_batch, labels_batch in train_generator:\n",
        "     print('data batch shape:', data_batch.shape)\n",
        "     print('labels batch shape:', labels_batch.shape)\n",
        "     break"
      ],
      "execution_count": null,
      "outputs": [
        {
          "output_type": "stream",
          "text": [
            "data batch shape: (20, 150, 150, 3)\n",
            "labels batch shape: (20,)\n"
          ],
          "name": "stdout"
        }
      ]
    },
    {
      "cell_type": "code",
      "metadata": {
        "id": "xoyLC8BF9Gtg",
        "outputId": "66a8d4f8-90de-4c35-edf5-043e43b97437",
        "colab": {
          "base_uri": "https://localhost:8080/",
          "height": 428
        }
      },
      "source": [
        "history = model.fit_generator(\n",
        "      train_generator,\n",
        "      steps_per_epoch=100,\n",
        "      epochs=10,\n",
        "      validation_data=validation_generator,\n",
        "      validation_steps=50)"
      ],
      "execution_count": null,
      "outputs": [
        {
          "output_type": "stream",
          "text": [
            "WARNING:tensorflow:From <ipython-input-13-283e2af8634b>:6: Model.fit_generator (from tensorflow.python.keras.engine.training) is deprecated and will be removed in a future version.\n",
            "Instructions for updating:\n",
            "Please use Model.fit, which supports generators.\n",
            "Epoch 1/10\n",
            "100/100 [==============================] - 482s 5s/step - loss: 0.6596 - acc: 0.6030 - val_loss: 0.6321 - val_acc: 0.6200\n",
            "Epoch 2/10\n",
            "100/100 [==============================] - 420s 4s/step - loss: 0.5728 - acc: 0.6915 - val_loss: 0.5546 - val_acc: 0.7240\n",
            "Epoch 3/10\n",
            "100/100 [==============================] - 416s 4s/step - loss: 0.5151 - acc: 0.7450 - val_loss: 0.4870 - val_acc: 0.7610\n",
            "Epoch 4/10\n",
            "100/100 [==============================] - 404s 4s/step - loss: 0.4826 - acc: 0.7680 - val_loss: 0.4759 - val_acc: 0.7610\n",
            "Epoch 5/10\n",
            "100/100 [==============================] - 392s 4s/step - loss: 0.4645 - acc: 0.7775 - val_loss: 0.4526 - val_acc: 0.8010\n",
            "Epoch 6/10\n",
            "100/100 [==============================] - 382s 4s/step - loss: 0.4314 - acc: 0.7915 - val_loss: 0.4878 - val_acc: 0.7450\n",
            "Epoch 7/10\n",
            "100/100 [==============================] - 389s 4s/step - loss: 0.4121 - acc: 0.8080 - val_loss: 0.4056 - val_acc: 0.8080\n",
            "Epoch 8/10\n",
            "100/100 [==============================] - 385s 4s/step - loss: 0.3826 - acc: 0.8210 - val_loss: 0.4201 - val_acc: 0.8060\n",
            "Epoch 9/10\n",
            "100/100 [==============================] - 384s 4s/step - loss: 0.3755 - acc: 0.8310 - val_loss: 0.3987 - val_acc: 0.8190\n",
            "Epoch 10/10\n",
            "100/100 [==============================] - 381s 4s/step - loss: 0.3759 - acc: 0.8255 - val_loss: 0.4044 - val_acc: 0.8120\n"
          ],
          "name": "stdout"
        }
      ]
    },
    {
      "cell_type": "code",
      "metadata": {
        "id": "hquceE_aK9VG"
      },
      "source": [
        "model.save('SkinModel.h5')"
      ],
      "execution_count": null,
      "outputs": []
    },
    {
      "cell_type": "code",
      "metadata": {
        "id": "3jYqDMPtdYYc",
        "outputId": "c1e75031-4457-4310-8b46-9ea82fef901e",
        "colab": {
          "base_uri": "https://localhost:8080/",
          "height": 545
        }
      },
      "source": [
        "import matplotlib.pyplot as plt\n",
        "\n",
        "acc = history.history['acc']\n",
        "val_acc = history.history['val_acc']\n",
        "loss = history.history['loss']\n",
        "val_loss = history.history['val_loss']\n",
        "\n",
        "epochs = range(1, len(acc) + 1)\n",
        "\n",
        "plt.plot(epochs, acc, 'bo', label='Training acc')\n",
        "plt.plot(epochs, val_acc, 'b', label='Validation acc')\n",
        "plt.title('Training and validation accuracy')\n",
        "plt.legend()\n",
        "\n",
        "plt.figure()\n",
        "\n",
        "plt.plot(epochs, loss, 'bo', label='Training loss')\n",
        "plt.plot(epochs, val_loss, 'b', label='Validation loss')\n",
        "plt.title('Training and validation loss')\n",
        "plt.legend()\n",
        "\n",
        "plt.show()"
      ],
      "execution_count": null,
      "outputs": [
        {
          "output_type": "display_data",
          "data": {
            "image/png": "[encoded data removed]",
            "text/plain": [
              "<Figure size 432x288 with 1 Axes>"
            ]
          },
          "metadata": {
            "tags": [],
            "needs_background": "light"
          }
        },
        {
          "output_type": "display_data",
          "data": {
            "image/png": "[encoded data removed]",
            "text/plain": [
              "<Figure size 432x288 with 1 Axes>"
            ]
          },
          "metadata": {
            "tags": [],
            "needs_background": "light"
          }
        }
      ]
    },
    {
      "cell_type": "code",
      "metadata": {
        "id": "NtVaGFDeBUNO",
        "outputId": "7021511a-95f0-4f6e-84d1-401a808fc4ea",
        "colab": {
          "base_uri": "https://localhost:8080/",
          "height": 34
        }
      },
      "source": [
        "Testing_generator = test_datagen.flow_from_directory(\n",
        "        test_dir,\n",
        "        target_size=(150, 150),\n",
        "        batch_size=20,\n",
        "        class_mode='binary')"
      ],
      "execution_count": null,
      "outputs": [
        {
          "output_type": "stream",
          "text": [
            "Found 1000 images belonging to 2 classes.\n"
          ],
          "name": "stdout"
        }
      ]
    },
    {
      "cell_type": "code",
      "metadata": {
        "id": "ZFjFBLLlDV80"
      },
      "source": [
        "prop = model.predict(Testing_generator)\n",
        "print(prop)"
      ],
      "execution_count": null,
      "outputs": []
    },
    {
      "cell_type": "code",
      "metadata": {
        "id": "yfAnfs1cBlWl",
        "outputId": "b58b9d43-501c-4811-b1fe-76b3e4564945",
        "colab": {
          "base_uri": "https://localhost:8080/",
          "height": 51
        }
      },
      "source": [
        "score = model.evaluate(Testing_generator)\n",
        "print('Test accuarcy: {:0.2f}%'.format(score[1] * 100))"
      ],
      "execution_count": null,
      "outputs": [
        {
          "output_type": "stream",
          "text": [
            "50/50 [==============================] - 112s 2s/step - loss: 0.3893 - acc: 0.8110\n",
            "Test accuarcy: 81.10%\n"
          ],
          "name": "stdout"
        }
      ]
    }
  ]
}